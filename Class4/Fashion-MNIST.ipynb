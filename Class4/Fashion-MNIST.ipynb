{
 "cells": [
  {
   "cell_type": "markdown",
   "metadata": {
    "slideshow": {
     "slide_type": "slide"
    }
   },
   "source": [
    "# Iterative Model Development Steps with Application to Fashion-MNIST Dataset\n",
    "- Steps are also outlined in today's [deck](http://bit.ly/2SbsPKX)\n",
    "- Link to Fashion-MNIST [dataset](https://github.com/zalandoresearch/fashion-mnist)"
   ]
  },
  {
   "cell_type": "markdown",
   "metadata": {
    "slideshow": {
     "slide_type": "slide"
    }
   },
   "source": [
    "## Step 1: Understand Different Modeling Approaches\n",
    "- Model development is an art and science -- you may have done these steps differently. \n",
    "- Please let us know what you would have done!"
   ]
  },
  {
   "cell_type": "code",
   "execution_count": 1,
   "metadata": {
    "slideshow": {
     "slide_type": "fragment"
    }
   },
   "outputs": [],
   "source": [
    "# Standard libraries:\n",
    "from collections import Counter\n",
    "import inspect\n",
    "import os\n",
    "\n",
    "# Third-party libraries:\n",
    "from joblib import dump, load\n",
    "import matplotlib.pyplot as plt\n",
    "import numpy as np\n",
    "import pandas as pd\n",
    "import random\n",
    "from sklearn.model_selection import GridSearchCV, train_test_split\n",
    "from sklearn.ensemble import RandomForestClassifier\n",
    "from sklearn.metrics import accuracy_score, confusion_matrix, f1_score, \\\n",
    "                            mean_squared_error, roc_auc_score\n",
    "\n",
    "# Custom libraries:\n",
    "import network"
   ]
  },
  {
   "cell_type": "code",
   "execution_count": 2,
   "metadata": {},
   "outputs": [],
   "source": [
    "np.random.seed(2000)"
   ]
  },
  {
   "cell_type": "markdown",
   "metadata": {
    "slideshow": {
     "slide_type": "slide"
    }
   },
   "source": [
    "## Step 2: Understand Business Use Case\n",
    "Proposed use case -- there may be (many) others:\n",
    "- **Client**: Online marketplace for buyers and sellers of retail goods\n",
    "\n",
    "- **Statement of Problem**: Marketplace allows sellers to upload goods and requires an item's description, that's indexed by the platform's search engine. \n",
    "\n",
    "- **Question**: Can we improve search results by automatically tagging an item's category for the seller (and surfacing that tag to the platform's search engine)?\n",
    "\n",
    "- **Business Impact**: Improved search results may affect engagement, conversion and AOV. If AOV increases by 5%, assuming a `$40` AOV and `$200K` revenue/month, our work increases revenue by `$100K`/year.  "
   ]
  },
  {
   "cell_type": "markdown",
   "metadata": {
    "slideshow": {
     "slide_type": "fragment"
    }
   },
   "source": [
    "What approach would you recommend?"
   ]
  },
  {
   "cell_type": "markdown",
   "metadata": {
    "slideshow": {
     "slide_type": "subslide"
    }
   },
   "source": [
    "**Approach 1 (v0, today)**: Aim to derive tags based on item's image."
   ]
  },
  {
   "cell_type": "markdown",
   "metadata": {
    "slideshow": {
     "slide_type": "fragment"
    }
   },
   "source": [
    "**Approach 2 (outside scope of class)**: Aim to derive tags based on item's description."
   ]
  },
  {
   "cell_type": "markdown",
   "metadata": {
    "slideshow": {
     "slide_type": "fragment"
    }
   },
   "source": [
    "**Approach 3 (outside scope of class)**: Aim to derive tags based on ensemble of item's image and description."
   ]
  },
  {
   "cell_type": "markdown",
   "metadata": {
    "slideshow": {
     "slide_type": "slide"
    }
   },
   "source": [
    "## Step 3: Get Access to Data"
   ]
  },
  {
   "cell_type": "markdown",
   "metadata": {},
   "source": [
    "### Step 3-a: Access Helper Function to Read-in Data\n",
    "To access the data set, we'll be following instructions under `Loading data with Python` section, outlined below:"
   ]
  },
  {
   "cell_type": "code",
   "execution_count": 3,
   "metadata": {},
   "outputs": [
    {
     "data": {
      "text/plain": [
       "'/Users/irina/Documents/Stats_404/Stats-404-repo/Class4'"
      ]
     },
     "execution_count": 3,
     "metadata": {},
     "output_type": "execute_result"
    }
   ],
   "source": [
    "# Save location of notebook:\n",
    "notebook_dir = os.getcwd()\n",
    "notebook_dir"
   ]
  },
  {
   "cell_type": "markdown",
   "metadata": {
    "slideshow": {
     "slide_type": "subslide"
    }
   },
   "source": [
    "**Step 1**: Clone Fashion-MNIST [repository](https://github.com/zalandoresearch/fashion-mnist)\n",
    "\n",
    "**Step 2**: Specify path to this direcotry on your local machine:"
   ]
  },
  {
   "cell_type": "code",
   "execution_count": 4,
   "metadata": {},
   "outputs": [],
   "source": [
    "# Path to repository on my machine:\n",
    "fashion_mnist_dir = \"/Users/irina/Documents/Stats-Related/Fashion-MNIST-repo\""
   ]
  },
  {
   "cell_type": "markdown",
   "metadata": {},
   "source": [
    "**Step 3**: Change directories to the repository on your local machine:"
   ]
  },
  {
   "cell_type": "code",
   "execution_count": 5,
   "metadata": {},
   "outputs": [],
   "source": [
    "os.chdir(fashion_mnist_dir)"
   ]
  },
  {
   "cell_type": "markdown",
   "metadata": {},
   "source": [
    "**Step 4**: Import the helper function to read-in the data"
   ]
  },
  {
   "cell_type": "code",
   "execution_count": 6,
   "metadata": {},
   "outputs": [],
   "source": [
    "from utils import mnist_reader"
   ]
  },
  {
   "cell_type": "markdown",
   "metadata": {
    "slideshow": {
     "slide_type": "subslide"
    }
   },
   "source": [
    "### Step 3-b: Read-in Data\n",
    "Read-in the data using the helper function of data set's repository."
   ]
  },
  {
   "cell_type": "code",
   "execution_count": 7,
   "metadata": {},
   "outputs": [],
   "source": [
    "X_train, y_train = mnist_reader.load_mnist('data/fashion', kind='train')\n",
    "X_test, y_test = mnist_reader.load_mnist('data/fashion', kind='t10k')"
   ]
  },
  {
   "cell_type": "code",
   "execution_count": 8,
   "metadata": {
    "slideshow": {
     "slide_type": "subslide"
    }
   },
   "outputs": [
    {
     "data": {
      "text/plain": [
       "(60000, 784)"
      ]
     },
     "execution_count": 8,
     "metadata": {},
     "output_type": "execute_result"
    }
   ],
   "source": [
    "X_train.shape"
   ]
  },
  {
   "cell_type": "code",
   "execution_count": 58,
   "metadata": {},
   "outputs": [],
   "source": [
    "# Prevent overflow of computation by dividing by the max value of scale, \n",
    "# to be on 0-1 scale, not 0-255:\n",
    "X_train_normalize = [x/255.0 for x in X_train]"
   ]
  },
  {
   "cell_type": "code",
   "execution_count": 10,
   "metadata": {
    "slideshow": {
     "slide_type": "fragment"
    }
   },
   "outputs": [
    {
     "data": {
      "text/plain": [
       "(10000, 784)"
      ]
     },
     "execution_count": 10,
     "metadata": {},
     "output_type": "execute_result"
    }
   ],
   "source": [
    "X_test.shape"
   ]
  },
  {
   "cell_type": "code",
   "execution_count": 11,
   "metadata": {
    "slideshow": {
     "slide_type": "fragment"
    }
   },
   "outputs": [
    {
     "data": {
      "text/plain": [
       "Counter({9: 6000,\n",
       "         0: 6000,\n",
       "         3: 6000,\n",
       "         2: 6000,\n",
       "         7: 6000,\n",
       "         5: 6000,\n",
       "         1: 6000,\n",
       "         6: 6000,\n",
       "         4: 6000,\n",
       "         8: 6000})"
      ]
     },
     "execution_count": 11,
     "metadata": {},
     "output_type": "execute_result"
    }
   ],
   "source": [
    "Counter(y_train)"
   ]
  },
  {
   "cell_type": "code",
   "execution_count": 12,
   "metadata": {
    "slideshow": {
     "slide_type": "subslide"
    }
   },
   "outputs": [],
   "source": [
    "# Create dictionary of outcome variable labels, per repository:\n",
    "label_dict = {\n",
    "    0: \"T-shirt/top\",\n",
    "    1: \"Trouser\",\n",
    "    2: \"Pullover\",\n",
    "    3: \"Dress\",\n",
    "    4: \"Coat\",\n",
    "    5: \"Sandal\",\n",
    "    6: \"Shirt\",\n",
    "    7: \"Sneaker\",\n",
    "    8: \"Bag\",\n",
    "    9: \"Ankle boot\"\n",
    "}"
   ]
  },
  {
   "cell_type": "markdown",
   "metadata": {
    "slideshow": {
     "slide_type": "subslide"
    }
   },
   "source": [
    "### Step 3-c: EDA of Data"
   ]
  },
  {
   "cell_type": "code",
   "execution_count": 13,
   "metadata": {},
   "outputs": [],
   "source": [
    "def visualize_image(dataset_x, dataset_y, img_index, y_labels=label_dict):\n",
    "    \"\"\"Helper function to visualize image and associated label, for\n",
    "       specified image in index.\n",
    "       ---\n",
    "       Note: Assume image size is 28 x 28.\n",
    "    \"\"\"\n",
    "    plt.imshow(dataset_x[img_index].reshape(28, 28),\n",
    "               cmap='Greys')\n",
    "    print(y_labels[dataset_y[img_index]])"
   ]
  },
  {
   "cell_type": "code",
   "execution_count": 14,
   "metadata": {
    "slideshow": {
     "slide_type": "subslide"
    }
   },
   "outputs": [
    {
     "name": "stdout",
     "output_type": "stream",
     "text": [
      "Ankle boot\n"
     ]
    },
    {
     "data": {
      "image/png": "[encoded data removed]",
      "text/plain": [
       "<Figure size 432x288 with 1 Axes>"
      ]
     },
     "metadata": {
      "needs_background": "light"
     },
     "output_type": "display_data"
    }
   ],
   "source": [
    "visualize_image(X_train_normalize, y_train, 0)"
   ]
  },
  {
   "cell_type": "code",
   "execution_count": 15,
   "metadata": {
    "slideshow": {
     "slide_type": "subslide"
    }
   },
   "outputs": [
    {
     "name": "stdout",
     "output_type": "stream",
     "text": [
      "T-shirt/top\n"
     ]
    },
    {
     "data": {
      "image/png": "[encoded data removed]",
      "text/plain": [
       "<Figure size 432x288 with 1 Axes>"
      ]
     },
     "metadata": {
      "needs_background": "light"
     },
     "output_type": "display_data"
    }
   ],
   "source": [
    "visualize_image(X_train_normalize, y_train, 10)"
   ]
  },
  {
   "cell_type": "markdown",
   "metadata": {
    "slideshow": {
     "slide_type": "slide"
    }
   },
   "source": [
    "## Step 4: Determine Data Splits\n",
    "What are some data splits that you would propose?"
   ]
  },
  {
   "cell_type": "code",
   "execution_count": 16,
   "metadata": {},
   "outputs": [
    {
     "data": {
      "text/plain": [
       "Index([        0,         1,         2,         3,         4,         5,\n",
       "               6,         7,         8,         9,\n",
       "       ...\n",
       "             775,       776,       777,       778,       779,       780,\n",
       "             781,       782,       783, 'outcome'],\n",
       "      dtype='object', length=785)"
      ]
     },
     "execution_count": 16,
     "metadata": {},
     "output_type": "execute_result"
    }
   ],
   "source": [
    "# Add outcome column to data set of features, to be able to split dataset\n",
    "# into training and validation, statifying by outcome variable:\n",
    "df_tmp = pd.concat([pd.DataFrame(X_train_normalize),\n",
    "                    pd.DataFrame(y_train, columns=[\"outcome\"])], axis=1)\n",
    "df_tmp.columns"
   ]
  },
  {
   "cell_type": "code",
   "execution_count": 17,
   "metadata": {
    "slideshow": {
     "slide_type": "subslide"
    }
   },
   "outputs": [],
   "source": [
    "df_train, df_valid = train_test_split(df_tmp,\n",
    "                                      test_size=0.25,\n",
    "                                      random_state=2019,\n",
    "                                      stratify=df_tmp['outcome'])"
   ]
  },
  {
   "cell_type": "code",
   "execution_count": 18,
   "metadata": {
    "slideshow": {
     "slide_type": "subslide"
    }
   },
   "outputs": [
    {
     "data": {
      "text/plain": [
       "0    4500\n",
       "1    4500\n",
       "2    4500\n",
       "3    4500\n",
       "4    4500\n",
       "5    4500\n",
       "6    4500\n",
       "7    4500\n",
       "8    4500\n",
       "9    4500\n",
       "Name: outcome, dtype: int64"
      ]
     },
     "execution_count": 18,
     "metadata": {},
     "output_type": "execute_result"
    }
   ],
   "source": [
    "df_train['outcome'].value_counts(sort=False)"
   ]
  },
  {
   "cell_type": "code",
   "execution_count": 19,
   "metadata": {
    "slideshow": {
     "slide_type": "subslide"
    }
   },
   "outputs": [
    {
     "data": {
      "text/plain": [
       "0    1500\n",
       "8    1500\n",
       "1    1500\n",
       "9    1500\n",
       "2    1500\n",
       "3    1500\n",
       "4    1500\n",
       "5    1500\n",
       "6    1500\n",
       "7    1500\n",
       "Name: outcome, dtype: int64"
      ]
     },
     "execution_count": 19,
     "metadata": {},
     "output_type": "execute_result"
    }
   ],
   "source": [
    "df_valid['outcome'].value_counts(sort=False)"
   ]
  },
  {
   "cell_type": "code",
   "execution_count": 20,
   "metadata": {
    "slideshow": {
     "slide_type": "subslide"
    }
   },
   "outputs": [
    {
     "data": {
      "text/plain": [
       "Counter({9: 1000,\n",
       "         2: 1000,\n",
       "         1: 1000,\n",
       "         6: 1000,\n",
       "         4: 1000,\n",
       "         5: 1000,\n",
       "         7: 1000,\n",
       "         3: 1000,\n",
       "         8: 1000,\n",
       "         0: 1000})"
      ]
     },
     "execution_count": 20,
     "metadata": {},
     "output_type": "execute_result"
    }
   ],
   "source": [
    "Counter(y_test)"
   ]
  },
  {
   "cell_type": "markdown",
   "metadata": {
    "slideshow": {
     "slide_type": "slide"
    }
   },
   "source": [
    "## Step 5: Feature Engineering"
   ]
  },
  {
   "cell_type": "markdown",
   "metadata": {},
   "source": [
    "Baseline model (v0) will use greyscale images that were rescaled to be on a scale of 0-1 (from 0-255), as features."
   ]
  },
  {
   "cell_type": "markdown",
   "metadata": {
    "slideshow": {
     "slide_type": "fragment"
    }
   },
   "source": [
    "Using this assumptions, how many features are there per image?"
   ]
  },
  {
   "cell_type": "markdown",
   "metadata": {
    "slideshow": {
     "slide_type": "slide"
    }
   },
   "source": [
    "## Step 6: Estimate a Baseline Model (v0)"
   ]
  },
  {
   "cell_type": "code",
   "execution_count": 21,
   "metadata": {},
   "outputs": [],
   "source": [
    "y = df_train['outcome']\n",
    "X = df_train.drop(columns=['outcome'])"
   ]
  },
  {
   "cell_type": "code",
   "execution_count": 22,
   "metadata": {},
   "outputs": [
    {
     "data": {
      "text/plain": [
       "(45000, 784)"
      ]
     },
     "execution_count": 22,
     "metadata": {},
     "output_type": "execute_result"
    }
   ],
   "source": [
    "X.shape"
   ]
  },
  {
   "cell_type": "code",
   "execution_count": 23,
   "metadata": {
    "slideshow": {
     "slide_type": "subslide"
    }
   },
   "outputs": [
    {
     "data": {
      "text/plain": [
       "<Signature (n_estimators=100, criterion='gini', max_depth=None, min_samples_split=2, min_samples_leaf=1, min_weight_fraction_leaf=0.0, max_features='auto', max_leaf_nodes=None, min_impurity_decrease=0.0, min_impurity_split=None, bootstrap=True, oob_score=False, n_jobs=None, random_state=None, verbose=0, warm_start=False, class_weight=None, ccp_alpha=0.0, max_samples=None)>"
      ]
     },
     "execution_count": 23,
     "metadata": {},
     "output_type": "execute_result"
    }
   ],
   "source": [
    "inspect.signature(RandomForestClassifier)"
   ]
  },
  {
   "cell_type": "code",
   "execution_count": 24,
   "metadata": {
    "slideshow": {
     "slide_type": "fragment"
    }
   },
   "outputs": [],
   "source": [
    "### --- Step 1: Specify different number of trees in forest, to determine\n",
    "###             how many to use based on leveling-off of OOB error:\n",
    "n_trees = [50, 100, 250, 500, 1000, 1500, 2500]"
   ]
  },
  {
   "cell_type": "code",
   "execution_count": 25,
   "metadata": {
    "slideshow": {
     "slide_type": "fragment"
    }
   },
   "outputs": [],
   "source": [
    "### --- Step 2: Create dictionary to save-off each estimated RF model:\n",
    "rf_dict = dict.fromkeys(n_trees)"
   ]
  },
  {
   "cell_type": "code",
   "execution_count": 26,
   "metadata": {
    "slideshow": {
     "slide_type": "subslide"
    }
   },
   "outputs": [
    {
     "name": "stdout",
     "output_type": "stream",
     "text": [
      "50\n"
     ]
    },
    {
     "name": "stderr",
     "output_type": "stream",
     "text": [
      "[Parallel(n_jobs=1)]: Using backend SequentialBackend with 1 concurrent workers.\n",
      "[Parallel(n_jobs=1)]: Done  50 out of  50 | elapsed:   17.6s finished\n"
     ]
    },
    {
     "name": "stdout",
     "output_type": "stream",
     "text": [
      "100\n"
     ]
    },
    {
     "name": "stderr",
     "output_type": "stream",
     "text": [
      "[Parallel(n_jobs=1)]: Using backend SequentialBackend with 1 concurrent workers.\n",
      "[Parallel(n_jobs=1)]: Done 100 out of 100 | elapsed:   35.4s finished\n"
     ]
    },
    {
     "name": "stdout",
     "output_type": "stream",
     "text": [
      "250\n"
     ]
    },
    {
     "name": "stderr",
     "output_type": "stream",
     "text": [
      "[Parallel(n_jobs=1)]: Using backend SequentialBackend with 1 concurrent workers.\n",
      "[Parallel(n_jobs=1)]: Done 250 out of 250 | elapsed:  1.4min finished\n"
     ]
    },
    {
     "name": "stdout",
     "output_type": "stream",
     "text": [
      "500\n"
     ]
    },
    {
     "name": "stderr",
     "output_type": "stream",
     "text": [
      "[Parallel(n_jobs=1)]: Using backend SequentialBackend with 1 concurrent workers.\n",
      "[Parallel(n_jobs=1)]: Done 500 out of 500 | elapsed:  2.9min finished\n"
     ]
    },
    {
     "name": "stdout",
     "output_type": "stream",
     "text": [
      "1000\n"
     ]
    },
    {
     "name": "stderr",
     "output_type": "stream",
     "text": [
      "[Parallel(n_jobs=1)]: Using backend SequentialBackend with 1 concurrent workers.\n",
      "[Parallel(n_jobs=1)]: Done 1000 out of 1000 | elapsed:  6.1min finished\n"
     ]
    },
    {
     "name": "stdout",
     "output_type": "stream",
     "text": [
      "1500\n"
     ]
    },
    {
     "name": "stderr",
     "output_type": "stream",
     "text": [
      "[Parallel(n_jobs=1)]: Using backend SequentialBackend with 1 concurrent workers.\n",
      "[Parallel(n_jobs=1)]: Done 1500 out of 1500 | elapsed:  9.5min finished\n"
     ]
    },
    {
     "name": "stdout",
     "output_type": "stream",
     "text": [
      "2500\n"
     ]
    },
    {
     "name": "stderr",
     "output_type": "stream",
     "text": [
      "[Parallel(n_jobs=1)]: Using backend SequentialBackend with 1 concurrent workers.\n",
      "[Parallel(n_jobs=1)]: Done 2500 out of 2500 | elapsed: 16.4min finished\n"
     ]
    }
   ],
   "source": [
    "for num in n_trees:\n",
    "    print(num)\n",
    "    ### --- Step 3: Specify RF model to estimate:\n",
    "    rf = RandomForestClassifier(n_estimators=num,\n",
    "                                min_samples_leaf=30,\n",
    "                                oob_score=True,\n",
    "                                random_state=2019,\n",
    "                                class_weight='balanced',\n",
    "                                verbose=1)\n",
    "    ### --- Step 4: Estimate RF model and save estimated model:\n",
    "    rf.fit(X, y)\n",
    "    rf_dict[num] = rf"
   ]
  },
  {
   "cell_type": "markdown",
   "metadata": {},
   "source": [
    "*Note:* We could have used [`GridSearchCV`](https://scikit-learn.org/stable/modules/generated/sklearn.model_selection.GridSearchCV.html#sklearn.model_selection.GridSearchCV) to perform the optimization, but `GridSearchCV` performs 2+ Fold Cross-Validation that's repeated 3 times."
   ]
  },
  {
   "cell_type": "code",
   "execution_count": 27,
   "metadata": {
    "slideshow": {
     "slide_type": "subslide"
    }
   },
   "outputs": [
    {
     "data": {
      "text/plain": [
       "['/Users/irina/Documents/Stats_404/Stats-404-repo/Class4/rf.joblib']"
      ]
     },
     "execution_count": 27,
     "metadata": {},
     "output_type": "execute_result"
    }
   ],
   "source": [
    "### --- Save-off model:\n",
    "# Specify location and name of object to contain estimated model:\n",
    "model_object_path = os.path.join(notebook_dir, 'rf.joblib')\n",
    "# Save estimated model to specified location:\n",
    "dump(rf_dict, model_object_path) \n",
    "\n",
    "# Load model:\n",
    "# rf_dict = load(model_object_path) "
   ]
  },
  {
   "cell_type": "code",
   "execution_count": 28,
   "metadata": {
    "slideshow": {
     "slide_type": "subslide"
    }
   },
   "outputs": [
    {
     "data": {
      "image/png": "[encoded data removed]",
      "text/plain": [
       "<Figure size 432x288 with 1 Axes>"
      ]
     },
     "metadata": {
      "needs_background": "light"
     },
     "output_type": "display_data"
    }
   ],
   "source": [
    "# Compute OOB error per\n",
    "# https://scikit-learn.org/stable/auto_examples/ensemble/plot_ensemble_oob.html\n",
    "oob_error_list = [None] * len(n_trees)\n",
    "\n",
    "# Find OOB error for each forest size:\n",
    "for i in range(len(n_trees)):\n",
    "    oob_error_list[i] = 1 - rf_dict[n_trees[i]].oob_score_\n",
    "else:\n",
    "    # Visulaize result:\n",
    "    plt.plot(n_trees, oob_error_list, 'bo',\n",
    "             n_trees, oob_error_list, 'k')"
   ]
  },
  {
   "cell_type": "markdown",
   "metadata": {},
   "source": [
    "How many trees are enough for our forest?"
   ]
  },
  {
   "cell_type": "markdown",
   "metadata": {
    "slideshow": {
     "slide_type": "slide"
    }
   },
   "source": [
    "# Step 7: Interpret Results"
   ]
  },
  {
   "cell_type": "code",
   "execution_count": 29,
   "metadata": {},
   "outputs": [],
   "source": [
    "# Feature importance plot, modified from: \n",
    "# https://scikit-learn.org/stable/auto_examples/ensemble/plot_forest_importances.html\n",
    "top_num = 20\n",
    "forest = rf_dict[500]\n",
    "importances = forest.feature_importances_\n",
    "\n",
    "# Sort in decreasing order:\n",
    "indices = np.argsort(importances)[::-1]"
   ]
  },
  {
   "cell_type": "code",
   "execution_count": 30,
   "metadata": {
    "slideshow": {
     "slide_type": "subslide"
    }
   },
   "outputs": [
    {
     "data": {
      "image/png": "[encoded data removed]",
      "text/plain": [
       "<Figure size 432x288 with 1 Axes>"
      ]
     },
     "metadata": {
      "needs_background": "light"
     },
     "output_type": "display_data"
    }
   ],
   "source": [
    "# Plot the feature importances of the forest\n",
    "ax = plt.gca()\n",
    "plt.title(f\"Top {top_num} feature importances\")\n",
    "plt.bar(range(top_num), importances[indices[0:top_num]])\n",
    "plt.xticks(range(top_num))\n",
    "ax.set_xticklabels(indices[0:top_num], rotation = 90)\n",
    "ax.set_xlabel(\"Pixel position in image\")\n",
    "ax.set_ylabel(\"Feature Importance\")\n",
    "plt.show()"
   ]
  },
  {
   "cell_type": "markdown",
   "metadata": {},
   "source": [
    "How can you decided how many top X features are important?"
   ]
  },
  {
   "cell_type": "markdown",
   "metadata": {
    "slideshow": {
     "slide_type": "slide"
    }
   },
   "source": [
    "## Step 8: Evaluate Performance"
   ]
  },
  {
   "cell_type": "markdown",
   "metadata": {},
   "source": [
    "### Step 8a: Evaluate Performance on In-Sample Data\n",
    "Evaluate performance on in-sample data, to see wat the \"best-possible\" performance is, on data that the model's seen.\n"
   ]
  },
  {
   "cell_type": "code",
   "execution_count": 31,
   "metadata": {},
   "outputs": [
    {
     "name": "stderr",
     "output_type": "stream",
     "text": [
      "[Parallel(n_jobs=1)]: Using backend SequentialBackend with 1 concurrent workers.\n",
      "[Parallel(n_jobs=1)]: Done 500 out of 500 | elapsed:    5.7s finished\n"
     ]
    },
    {
     "data": {
      "text/plain": [
       "array([2, 1, 0, 4, 3], dtype=uint8)"
      ]
     },
     "execution_count": 31,
     "metadata": {},
     "output_type": "execute_result"
    }
   ],
   "source": [
    "y_pred_train = forest.predict(X)\n",
    "y_pred_train[0:5]"
   ]
  },
  {
   "cell_type": "code",
   "execution_count": 32,
   "metadata": {
    "slideshow": {
     "slide_type": "subslide"
    }
   },
   "outputs": [
    {
     "name": "stderr",
     "output_type": "stream",
     "text": [
      "[Parallel(n_jobs=1)]: Using backend SequentialBackend with 1 concurrent workers.\n",
      "[Parallel(n_jobs=1)]: Done 500 out of 500 | elapsed:    5.8s finished\n"
     ]
    },
    {
     "data": {
      "text/html": [
       "<div>\n",
       "<style scoped>\n",
       "    .dataframe tbody tr th:only-of-type {\n",
       "        vertical-align: middle;\n",
       "    }\n",
       "\n",
       "    .dataframe tbody tr th {\n",
       "        vertical-align: top;\n",
       "    }\n",
       "\n",
       "    .dataframe thead th {\n",
       "        text-align: right;\n",
       "    }\n",
       "</style>\n",
       "<table border=\"1\" class=\"dataframe\">\n",
       "  <thead>\n",
       "    <tr style=\"text-align: right;\">\n",
       "      <th></th>\n",
       "      <th>0</th>\n",
       "      <th>1</th>\n",
       "      <th>2</th>\n",
       "      <th>3</th>\n",
       "      <th>4</th>\n",
       "      <th>5</th>\n",
       "      <th>6</th>\n",
       "      <th>7</th>\n",
       "      <th>8</th>\n",
       "      <th>9</th>\n",
       "    </tr>\n",
       "  </thead>\n",
       "  <tbody>\n",
       "    <tr>\n",
       "      <th>0</th>\n",
       "      <td>0.004653</td>\n",
       "      <td>0.005502</td>\n",
       "      <td>0.857476</td>\n",
       "      <td>0.002557</td>\n",
       "      <td>0.039973</td>\n",
       "      <td>0.002692</td>\n",
       "      <td>0.080528</td>\n",
       "      <td>0.000282</td>\n",
       "      <td>0.004449</td>\n",
       "      <td>0.001890</td>\n",
       "    </tr>\n",
       "    <tr>\n",
       "      <th>1</th>\n",
       "      <td>0.004345</td>\n",
       "      <td>0.967976</td>\n",
       "      <td>0.000216</td>\n",
       "      <td>0.017679</td>\n",
       "      <td>0.005040</td>\n",
       "      <td>0.001031</td>\n",
       "      <td>0.002384</td>\n",
       "      <td>0.000000</td>\n",
       "      <td>0.001292</td>\n",
       "      <td>0.000036</td>\n",
       "    </tr>\n",
       "    <tr>\n",
       "      <th>2</th>\n",
       "      <td>0.560582</td>\n",
       "      <td>0.000822</td>\n",
       "      <td>0.004595</td>\n",
       "      <td>0.022059</td>\n",
       "      <td>0.007729</td>\n",
       "      <td>0.000000</td>\n",
       "      <td>0.402047</td>\n",
       "      <td>0.000000</td>\n",
       "      <td>0.001910</td>\n",
       "      <td>0.000256</td>\n",
       "    </tr>\n",
       "    <tr>\n",
       "      <th>3</th>\n",
       "      <td>0.003820</td>\n",
       "      <td>0.001461</td>\n",
       "      <td>0.215259</td>\n",
       "      <td>0.001763</td>\n",
       "      <td>0.683101</td>\n",
       "      <td>0.000314</td>\n",
       "      <td>0.087834</td>\n",
       "      <td>0.000000</td>\n",
       "      <td>0.005451</td>\n",
       "      <td>0.000996</td>\n",
       "    </tr>\n",
       "    <tr>\n",
       "      <th>4</th>\n",
       "      <td>0.002132</td>\n",
       "      <td>0.002174</td>\n",
       "      <td>0.000361</td>\n",
       "      <td>0.994120</td>\n",
       "      <td>0.000337</td>\n",
       "      <td>0.000108</td>\n",
       "      <td>0.000175</td>\n",
       "      <td>0.000000</td>\n",
       "      <td>0.000593</td>\n",
       "      <td>0.000000</td>\n",
       "    </tr>\n",
       "  </tbody>\n",
       "</table>\n",
       "</div>"
      ],
      "text/plain": [
       "          0         1         2         3         4         5         6  \\\n",
       "0  0.004653  0.005502  0.857476  0.002557  0.039973  0.002692  0.080528   \n",
       "1  0.004345  0.967976  0.000216  0.017679  0.005040  0.001031  0.002384   \n",
       "2  0.560582  0.000822  0.004595  0.022059  0.007729  0.000000  0.402047   \n",
       "3  0.003820  0.001461  0.215259  0.001763  0.683101  0.000314  0.087834   \n",
       "4  0.002132  0.002174  0.000361  0.994120  0.000337  0.000108  0.000175   \n",
       "\n",
       "          7         8         9  \n",
       "0  0.000282  0.004449  0.001890  \n",
       "1  0.000000  0.001292  0.000036  \n",
       "2  0.000000  0.001910  0.000256  \n",
       "3  0.000000  0.005451  0.000996  \n",
       "4  0.000000  0.000593  0.000000  "
      ]
     },
     "execution_count": 32,
     "metadata": {},
     "output_type": "execute_result"
    }
   ],
   "source": [
    "y_pred_train_probs = pd.DataFrame(forest.predict_proba(X))\n",
    "y_pred_train_probs.head()"
   ]
  },
  {
   "cell_type": "markdown",
   "metadata": {
    "slideshow": {
     "slide_type": "subslide"
    }
   },
   "source": [
    "#### Evaluate Performance via Confusion Matrix"
   ]
  },
  {
   "cell_type": "code",
   "execution_count": 33,
   "metadata": {},
   "outputs": [
    {
     "data": {
      "text/plain": [
       "array([[3934,    3,   61,  172,   25,    5,  245,    0,   55,    0],\n",
       "       [  10, 4305,   43,  115,    6,    2,   17,    0,    2,    0],\n",
       "       [  18,    1, 3737,   45,  498,    3,  168,    0,   30,    0],\n",
       "       [  84,    9,   46, 4160,  116,    0,   75,    0,   10,    0],\n",
       "       [   5,    4,  256,  159, 3924,    0,  136,    0,   15,    1],\n",
       "       [   0,    0,    0,    1,    0, 4242,    2,  166,   25,   64],\n",
       "       [ 669,    6,  514,  114,  351,    2, 2762,    0,   82,    0],\n",
       "       [   0,    0,    0,    0,    0,   56,    0, 4222,    6,  216],\n",
       "       [   8,    3,   20,   18,   22,   16,   36,   13, 4362,    2],\n",
       "       [   0,    0,    0,    3,    0,   35,    3,  143,    7, 4309]])"
      ]
     },
     "execution_count": 33,
     "metadata": {},
     "output_type": "execute_result"
    }
   ],
   "source": [
    "conf_mat = confusion_matrix(y_true=y,\n",
    "                            y_pred=y_pred_train)\n",
    "conf_mat"
   ]
  },
  {
   "cell_type": "code",
   "execution_count": 34,
   "metadata": {
    "slideshow": {
     "slide_type": "subslide"
    }
   },
   "outputs": [],
   "source": [
    "# To have columns be in correct order:\n",
    "class_names = [label_dict[x] for x in range(10)]"
   ]
  },
  {
   "cell_type": "code",
   "execution_count": 35,
   "metadata": {},
   "outputs": [
    {
     "data": {
      "text/html": [
       "<div>\n",
       "<style scoped>\n",
       "    .dataframe tbody tr th:only-of-type {\n",
       "        vertical-align: middle;\n",
       "    }\n",
       "\n",
       "    .dataframe tbody tr th {\n",
       "        vertical-align: top;\n",
       "    }\n",
       "\n",
       "    .dataframe thead th {\n",
       "        text-align: right;\n",
       "    }\n",
       "</style>\n",
       "<table border=\"1\" class=\"dataframe\">\n",
       "  <thead>\n",
       "    <tr style=\"text-align: right;\">\n",
       "      <th></th>\n",
       "      <th>T-shirt/top</th>\n",
       "      <th>Trouser</th>\n",
       "      <th>Pullover</th>\n",
       "      <th>Dress</th>\n",
       "      <th>Coat</th>\n",
       "      <th>Sandal</th>\n",
       "      <th>Shirt</th>\n",
       "      <th>Sneaker</th>\n",
       "      <th>Bag</th>\n",
       "      <th>Ankle boot</th>\n",
       "    </tr>\n",
       "  </thead>\n",
       "  <tbody>\n",
       "    <tr>\n",
       "      <th>T-shirt/top</th>\n",
       "      <td>3934</td>\n",
       "      <td>3</td>\n",
       "      <td>61</td>\n",
       "      <td>172</td>\n",
       "      <td>25</td>\n",
       "      <td>5</td>\n",
       "      <td>245</td>\n",
       "      <td>0</td>\n",
       "      <td>55</td>\n",
       "      <td>0</td>\n",
       "    </tr>\n",
       "    <tr>\n",
       "      <th>Trouser</th>\n",
       "      <td>10</td>\n",
       "      <td>4305</td>\n",
       "      <td>43</td>\n",
       "      <td>115</td>\n",
       "      <td>6</td>\n",
       "      <td>2</td>\n",
       "      <td>17</td>\n",
       "      <td>0</td>\n",
       "      <td>2</td>\n",
       "      <td>0</td>\n",
       "    </tr>\n",
       "    <tr>\n",
       "      <th>Pullover</th>\n",
       "      <td>18</td>\n",
       "      <td>1</td>\n",
       "      <td>3737</td>\n",
       "      <td>45</td>\n",
       "      <td>498</td>\n",
       "      <td>3</td>\n",
       "      <td>168</td>\n",
       "      <td>0</td>\n",
       "      <td>30</td>\n",
       "      <td>0</td>\n",
       "    </tr>\n",
       "    <tr>\n",
       "      <th>Dress</th>\n",
       "      <td>84</td>\n",
       "      <td>9</td>\n",
       "      <td>46</td>\n",
       "      <td>4160</td>\n",
       "      <td>116</td>\n",
       "      <td>0</td>\n",
       "      <td>75</td>\n",
       "      <td>0</td>\n",
       "      <td>10</td>\n",
       "      <td>0</td>\n",
       "    </tr>\n",
       "    <tr>\n",
       "      <th>Coat</th>\n",
       "      <td>5</td>\n",
       "      <td>4</td>\n",
       "      <td>256</td>\n",
       "      <td>159</td>\n",
       "      <td>3924</td>\n",
       "      <td>0</td>\n",
       "      <td>136</td>\n",
       "      <td>0</td>\n",
       "      <td>15</td>\n",
       "      <td>1</td>\n",
       "    </tr>\n",
       "    <tr>\n",
       "      <th>Sandal</th>\n",
       "      <td>0</td>\n",
       "      <td>0</td>\n",
       "      <td>0</td>\n",
       "      <td>1</td>\n",
       "      <td>0</td>\n",
       "      <td>4242</td>\n",
       "      <td>2</td>\n",
       "      <td>166</td>\n",
       "      <td>25</td>\n",
       "      <td>64</td>\n",
       "    </tr>\n",
       "    <tr>\n",
       "      <th>Shirt</th>\n",
       "      <td>669</td>\n",
       "      <td>6</td>\n",
       "      <td>514</td>\n",
       "      <td>114</td>\n",
       "      <td>351</td>\n",
       "      <td>2</td>\n",
       "      <td>2762</td>\n",
       "      <td>0</td>\n",
       "      <td>82</td>\n",
       "      <td>0</td>\n",
       "    </tr>\n",
       "    <tr>\n",
       "      <th>Sneaker</th>\n",
       "      <td>0</td>\n",
       "      <td>0</td>\n",
       "      <td>0</td>\n",
       "      <td>0</td>\n",
       "      <td>0</td>\n",
       "      <td>56</td>\n",
       "      <td>0</td>\n",
       "      <td>4222</td>\n",
       "      <td>6</td>\n",
       "      <td>216</td>\n",
       "    </tr>\n",
       "    <tr>\n",
       "      <th>Bag</th>\n",
       "      <td>8</td>\n",
       "      <td>3</td>\n",
       "      <td>20</td>\n",
       "      <td>18</td>\n",
       "      <td>22</td>\n",
       "      <td>16</td>\n",
       "      <td>36</td>\n",
       "      <td>13</td>\n",
       "      <td>4362</td>\n",
       "      <td>2</td>\n",
       "    </tr>\n",
       "    <tr>\n",
       "      <th>Ankle boot</th>\n",
       "      <td>0</td>\n",
       "      <td>0</td>\n",
       "      <td>0</td>\n",
       "      <td>3</td>\n",
       "      <td>0</td>\n",
       "      <td>35</td>\n",
       "      <td>3</td>\n",
       "      <td>143</td>\n",
       "      <td>7</td>\n",
       "      <td>4309</td>\n",
       "    </tr>\n",
       "  </tbody>\n",
       "</table>\n",
       "</div>"
      ],
      "text/plain": [
       "             T-shirt/top  Trouser  Pullover  Dress  Coat  Sandal  Shirt  \\\n",
       "T-shirt/top         3934        3        61    172    25       5    245   \n",
       "Trouser               10     4305        43    115     6       2     17   \n",
       "Pullover              18        1      3737     45   498       3    168   \n",
       "Dress                 84        9        46   4160   116       0     75   \n",
       "Coat                   5        4       256    159  3924       0    136   \n",
       "Sandal                 0        0         0      1     0    4242      2   \n",
       "Shirt                669        6       514    114   351       2   2762   \n",
       "Sneaker                0        0         0      0     0      56      0   \n",
       "Bag                    8        3        20     18    22      16     36   \n",
       "Ankle boot             0        0         0      3     0      35      3   \n",
       "\n",
       "             Sneaker   Bag  Ankle boot  \n",
       "T-shirt/top        0    55           0  \n",
       "Trouser            0     2           0  \n",
       "Pullover           0    30           0  \n",
       "Dress              0    10           0  \n",
       "Coat               0    15           1  \n",
       "Sandal           166    25          64  \n",
       "Shirt              0    82           0  \n",
       "Sneaker         4222     6         216  \n",
       "Bag               13  4362           2  \n",
       "Ankle boot       143     7        4309  "
      ]
     },
     "execution_count": 35,
     "metadata": {},
     "output_type": "execute_result"
    }
   ],
   "source": [
    "conf_df = pd.DataFrame(conf_mat, class_names, class_names)\n",
    "conf_df"
   ]
  },
  {
   "cell_type": "code",
   "execution_count": 36,
   "metadata": {
    "slideshow": {
     "slide_type": "subslide"
    }
   },
   "outputs": [
    {
     "data": {
      "text/html": [
       "<div>\n",
       "<style scoped>\n",
       "    .dataframe tbody tr th:only-of-type {\n",
       "        vertical-align: middle;\n",
       "    }\n",
       "\n",
       "    .dataframe tbody tr th {\n",
       "        vertical-align: top;\n",
       "    }\n",
       "\n",
       "    .dataframe thead th {\n",
       "        text-align: right;\n",
       "    }\n",
       "</style>\n",
       "<table border=\"1\" class=\"dataframe\">\n",
       "  <thead>\n",
       "    <tr style=\"text-align: right;\">\n",
       "      <th></th>\n",
       "      <th>T-shirt/top</th>\n",
       "      <th>Trouser</th>\n",
       "      <th>Pullover</th>\n",
       "      <th>Dress</th>\n",
       "      <th>Coat</th>\n",
       "      <th>Sandal</th>\n",
       "      <th>Shirt</th>\n",
       "      <th>Sneaker</th>\n",
       "      <th>Bag</th>\n",
       "      <th>Ankle boot</th>\n",
       "    </tr>\n",
       "  </thead>\n",
       "  <tbody>\n",
       "    <tr>\n",
       "      <th>T-shirt/top</th>\n",
       "      <td>0.87</td>\n",
       "      <td>0.00</td>\n",
       "      <td>0.01</td>\n",
       "      <td>0.04</td>\n",
       "      <td>0.01</td>\n",
       "      <td>0.00</td>\n",
       "      <td>0.05</td>\n",
       "      <td>0.00</td>\n",
       "      <td>0.01</td>\n",
       "      <td>0.00</td>\n",
       "    </tr>\n",
       "    <tr>\n",
       "      <th>Trouser</th>\n",
       "      <td>0.00</td>\n",
       "      <td>0.96</td>\n",
       "      <td>0.01</td>\n",
       "      <td>0.03</td>\n",
       "      <td>0.00</td>\n",
       "      <td>0.00</td>\n",
       "      <td>0.00</td>\n",
       "      <td>0.00</td>\n",
       "      <td>0.00</td>\n",
       "      <td>0.00</td>\n",
       "    </tr>\n",
       "    <tr>\n",
       "      <th>Pullover</th>\n",
       "      <td>0.00</td>\n",
       "      <td>0.00</td>\n",
       "      <td>0.83</td>\n",
       "      <td>0.01</td>\n",
       "      <td>0.11</td>\n",
       "      <td>0.00</td>\n",
       "      <td>0.04</td>\n",
       "      <td>0.00</td>\n",
       "      <td>0.01</td>\n",
       "      <td>0.00</td>\n",
       "    </tr>\n",
       "    <tr>\n",
       "      <th>Dress</th>\n",
       "      <td>0.02</td>\n",
       "      <td>0.00</td>\n",
       "      <td>0.01</td>\n",
       "      <td>0.92</td>\n",
       "      <td>0.03</td>\n",
       "      <td>0.00</td>\n",
       "      <td>0.02</td>\n",
       "      <td>0.00</td>\n",
       "      <td>0.00</td>\n",
       "      <td>0.00</td>\n",
       "    </tr>\n",
       "    <tr>\n",
       "      <th>Coat</th>\n",
       "      <td>0.00</td>\n",
       "      <td>0.00</td>\n",
       "      <td>0.06</td>\n",
       "      <td>0.04</td>\n",
       "      <td>0.87</td>\n",
       "      <td>0.00</td>\n",
       "      <td>0.03</td>\n",
       "      <td>0.00</td>\n",
       "      <td>0.00</td>\n",
       "      <td>0.00</td>\n",
       "    </tr>\n",
       "    <tr>\n",
       "      <th>Sandal</th>\n",
       "      <td>0.00</td>\n",
       "      <td>0.00</td>\n",
       "      <td>0.00</td>\n",
       "      <td>0.00</td>\n",
       "      <td>0.00</td>\n",
       "      <td>0.94</td>\n",
       "      <td>0.00</td>\n",
       "      <td>0.04</td>\n",
       "      <td>0.01</td>\n",
       "      <td>0.01</td>\n",
       "    </tr>\n",
       "    <tr>\n",
       "      <th>Shirt</th>\n",
       "      <td>0.15</td>\n",
       "      <td>0.00</td>\n",
       "      <td>0.11</td>\n",
       "      <td>0.03</td>\n",
       "      <td>0.08</td>\n",
       "      <td>0.00</td>\n",
       "      <td>0.61</td>\n",
       "      <td>0.00</td>\n",
       "      <td>0.02</td>\n",
       "      <td>0.00</td>\n",
       "    </tr>\n",
       "    <tr>\n",
       "      <th>Sneaker</th>\n",
       "      <td>0.00</td>\n",
       "      <td>0.00</td>\n",
       "      <td>0.00</td>\n",
       "      <td>0.00</td>\n",
       "      <td>0.00</td>\n",
       "      <td>0.01</td>\n",
       "      <td>0.00</td>\n",
       "      <td>0.94</td>\n",
       "      <td>0.00</td>\n",
       "      <td>0.05</td>\n",
       "    </tr>\n",
       "    <tr>\n",
       "      <th>Bag</th>\n",
       "      <td>0.00</td>\n",
       "      <td>0.00</td>\n",
       "      <td>0.00</td>\n",
       "      <td>0.00</td>\n",
       "      <td>0.00</td>\n",
       "      <td>0.00</td>\n",
       "      <td>0.01</td>\n",
       "      <td>0.00</td>\n",
       "      <td>0.97</td>\n",
       "      <td>0.00</td>\n",
       "    </tr>\n",
       "    <tr>\n",
       "      <th>Ankle boot</th>\n",
       "      <td>0.00</td>\n",
       "      <td>0.00</td>\n",
       "      <td>0.00</td>\n",
       "      <td>0.00</td>\n",
       "      <td>0.00</td>\n",
       "      <td>0.01</td>\n",
       "      <td>0.00</td>\n",
       "      <td>0.03</td>\n",
       "      <td>0.00</td>\n",
       "      <td>0.96</td>\n",
       "    </tr>\n",
       "  </tbody>\n",
       "</table>\n",
       "</div>"
      ],
      "text/plain": [
       "             T-shirt/top  Trouser  Pullover  Dress  Coat  Sandal  Shirt  \\\n",
       "T-shirt/top         0.87     0.00      0.01   0.04  0.01    0.00   0.05   \n",
       "Trouser             0.00     0.96      0.01   0.03  0.00    0.00   0.00   \n",
       "Pullover            0.00     0.00      0.83   0.01  0.11    0.00   0.04   \n",
       "Dress               0.02     0.00      0.01   0.92  0.03    0.00   0.02   \n",
       "Coat                0.00     0.00      0.06   0.04  0.87    0.00   0.03   \n",
       "Sandal              0.00     0.00      0.00   0.00  0.00    0.94   0.00   \n",
       "Shirt               0.15     0.00      0.11   0.03  0.08    0.00   0.61   \n",
       "Sneaker             0.00     0.00      0.00   0.00  0.00    0.01   0.00   \n",
       "Bag                 0.00     0.00      0.00   0.00  0.00    0.00   0.01   \n",
       "Ankle boot          0.00     0.00      0.00   0.00  0.00    0.01   0.00   \n",
       "\n",
       "             Sneaker   Bag  Ankle boot  \n",
       "T-shirt/top     0.00  0.01        0.00  \n",
       "Trouser         0.00  0.00        0.00  \n",
       "Pullover        0.00  0.01        0.00  \n",
       "Dress           0.00  0.00        0.00  \n",
       "Coat            0.00  0.00        0.00  \n",
       "Sandal          0.04  0.01        0.01  \n",
       "Shirt           0.00  0.02        0.00  \n",
       "Sneaker         0.94  0.00        0.05  \n",
       "Bag             0.00  0.97        0.00  \n",
       "Ankle boot      0.03  0.00        0.96  "
      ]
     },
     "execution_count": 36,
     "metadata": {},
     "output_type": "execute_result"
    }
   ],
   "source": [
    "conf_df_pct = conf_df/conf_df.sum(axis=1)\n",
    "round(conf_df_pct, 2)"
   ]
  },
  {
   "cell_type": "markdown",
   "metadata": {},
   "source": [
    "What does the confusion matrix tell us about our model?"
   ]
  },
  {
   "cell_type": "markdown",
   "metadata": {
    "slideshow": {
     "slide_type": "subslide"
    }
   },
   "source": [
    "Aside:\n",
    "- `seaborn` [gallery](https://seaborn.pydata.org/examples/index.html) for visualizations\n",
    "- [Conditional highlighting](https://pandas.pydata.org/pandas-docs/stable/user_guide/style.html) of pandas dataframes"
   ]
  },
  {
   "cell_type": "markdown",
   "metadata": {
    "slideshow": {
     "slide_type": "subslide"
    }
   },
   "source": [
    "#### Evaluate Performance via F1-score\n",
    "We have a multi-class outcome, let's use an associated F1-score, per:\n",
    "https://scikit-learn.org/stable/modules/generated/sklearn.metrics.f1_score.html and https://medium.com/@ramit.singh.pahwa/micro-macro-precision-recall-and-f-score-44439de1a044"
   ]
  },
  {
   "cell_type": "code",
   "execution_count": 37,
   "metadata": {},
   "outputs": [
    {
     "data": {
      "text/plain": [
       "0.8862739486087194"
      ]
     },
     "execution_count": 37,
     "metadata": {},
     "output_type": "execute_result"
    }
   ],
   "source": [
    "# Class-level performance:\n",
    "f1_score(y_true=y,\n",
    "         y_pred=y_pred_train,\n",
    "         average='macro')"
   ]
  },
  {
   "cell_type": "code",
   "execution_count": 38,
   "metadata": {
    "slideshow": {
     "slide_type": "fragment"
    }
   },
   "outputs": [
    {
     "data": {
      "text/plain": [
       "0.8879333333333332"
      ]
     },
     "execution_count": 38,
     "metadata": {},
     "output_type": "execute_result"
    }
   ],
   "source": [
    "# Overall performance across all classes:\n",
    "f1_score(y_true=y,\n",
    "         y_pred=y_pred_train,\n",
    "         average='micro')"
   ]
  },
  {
   "cell_type": "markdown",
   "metadata": {
    "slideshow": {
     "slide_type": "subslide"
    }
   },
   "source": [
    "Is our F1-score surprising?"
   ]
  },
  {
   "cell_type": "markdown",
   "metadata": {
    "slideshow": {
     "slide_type": "fragment"
    }
   },
   "source": [
    "What do we think about the model?"
   ]
  },
  {
   "cell_type": "markdown",
   "metadata": {
    "slideshow": {
     "slide_type": "slide"
    }
   },
   "source": [
    "# Step 9: Fit An Alternative Model (v1)\n",
    "**Alternative Model**: Estimate a fully connected neural network with 1 hidden layer to try ot predict category of image... in (base) Python (!).\n",
    "\n",
    "**Motivation**: \n",
    "- Aim to understand what's happening behind-the-scenes with simple NN model first\n",
    "- Learning + practicing concepts, not syntax\n",
    "- Easier to debug"
   ]
  },
  {
   "cell_type": "markdown",
   "metadata": {
    "slideshow": {
     "slide_type": "slide"
    }
   },
   "source": [
    "# Before we tackle Neural Networks in (base) Python... Brief Introduction to OOP  \n",
    "Reference: https://realpython.com/python3-object-oriented-programming/"
   ]
  },
  {
   "cell_type": "markdown",
   "metadata": {},
   "source": [
    "- **Procedural programming**\n",
    "  - e.g. this notebook\n",
    "- **Object Oriented Programming (OOP)**\n",
    "  - e.g. person, with behaviors such as 'attending class'\n",
    "- OOP components:\n",
    "  - Classes contain properties (e.g. 'attending class')\n",
    "  - Instance of class (e.g. person 1, person 2, etc.)\n",
    "  - Class inheritance (outside scope of today's lecture)\n"
   ]
  },
  {
   "cell_type": "code",
   "execution_count": 39,
   "metadata": {
    "slideshow": {
     "slide_type": "subslide"
    }
   },
   "outputs": [],
   "source": [
    "class Person():\n",
    "    \"\"\"Class person\"\"\"\n",
    "    \n",
    "    def __init__(self, name):\n",
    "        \"\"\"Class requires that each Person has a name.\"\"\"\n",
    "        self.name = name"
   ]
  },
  {
   "cell_type": "code",
   "execution_count": 40,
   "metadata": {},
   "outputs": [
    {
     "data": {
      "text/plain": [
       "'Irina'"
      ]
     },
     "execution_count": 40,
     "metadata": {},
     "output_type": "execute_result"
    }
   ],
   "source": [
    "instructor = Person('Irina')\n",
    "instructor.name"
   ]
  },
  {
   "cell_type": "code",
   "execution_count": 41,
   "metadata": {},
   "outputs": [
    {
     "data": {
      "text/plain": [
       "'Theja'"
      ]
     },
     "execution_count": 41,
     "metadata": {},
     "output_type": "execute_result"
    }
   ],
   "source": [
    "TA = Person('Theja')\n",
    "TA.name"
   ]
  },
  {
   "cell_type": "code",
   "execution_count": 42,
   "metadata": {},
   "outputs": [
    {
     "data": {
      "text/plain": [
       "__main__.Person"
      ]
     },
     "execution_count": 42,
     "metadata": {},
     "output_type": "execute_result"
    }
   ],
   "source": [
    "type(instructor)"
   ]
  },
  {
   "cell_type": "markdown",
   "metadata": {
    "slideshow": {
     "slide_type": "slide"
    }
   },
   "source": [
    "# (Back to) Step 9: Fit An Alternative Model (v1)\n",
    "Reference: http://neuralnetworksanddeeplearning.com/chap1.html and\n",
    "simplified `network.py` code from repository:\n",
    "https://github.com/mnielsen/neural-networks-and-deep-learning/blob/master/src/network.py\n"
   ]
  },
  {
   "cell_type": "code",
   "execution_count": 43,
   "metadata": {},
   "outputs": [],
   "source": [
    "X = X.reset_index(drop=True)\n",
    "y = y.reset_index(drop=True)"
   ]
  },
  {
   "cell_type": "markdown",
   "metadata": {
    "slideshow": {
     "slide_type": "subslide"
    }
   },
   "source": [
    "#### Reshape Dataset to Format Expected by Fully Connected NN\n",
    "Format:\n",
    "- list of same length as number of images in (training) data set\n",
    "- each entry in list is a tuple of length 2, containing (features, outcome) of a given image\n",
    "- features are an 784 x 1 Numpy Ndarray\n",
    "- outcome is 10 x 1 Numpy Ndarray"
   ]
  },
  {
   "cell_type": "code",
   "execution_count": 44,
   "metadata": {},
   "outputs": [
    {
     "name": "stdout",
     "output_type": "stream",
     "text": [
      "0\n",
      "15000\n",
      "30000\n"
     ]
    }
   ],
   "source": [
    "num_rows = X.shape[0]\n",
    "training_data = [None]*num_rows\n",
    "for i in range(num_rows):\n",
    "    if i % 15000 == 0:\n",
    "        print(i)\n",
    "    # Create ndarray for each row of X:\n",
    "    tmp_x = pd.DataFrame(X.iloc[i]).values\n",
    "    # Create ndarray of length 10 for each value of y:\n",
    "    tmp_y = pd.DataFrame(np.zeros(10)).values\n",
    "    tmp_y[y[i]] = y[i]\n",
    "    # Create tuple for each image:\n",
    "    training_data[i] = (tmp_x, tmp_y)"
   ]
  },
  {
   "cell_type": "markdown",
   "metadata": {
    "slideshow": {
     "slide_type": "subslide"
    }
   },
   "source": [
    "#### Define the Fully Connected NN and its Estimation\n",
    "- Please see `network.py` in this repository for commented version of the code."
   ]
  },
  {
   "cell_type": "markdown",
   "metadata": {},
   "source": [
    "<Walk through of `network.py`>"
   ]
  },
  {
   "cell_type": "code",
   "execution_count": 45,
   "metadata": {
    "slideshow": {
     "slide_type": "subslide"
    }
   },
   "outputs": [],
   "source": [
    "# Network specs: \n",
    "#     28*28 neurons in input layer, \n",
    "#     30 in hidden layer, \n",
    "#     predicting 1 of 10 classes in output layer:\n",
    "random.seed(2019)\n",
    "net = network.Network([784, 30, 10])"
   ]
  },
  {
   "cell_type": "code",
   "execution_count": 46,
   "metadata": {
    "slideshow": {
     "slide_type": "fragment"
    }
   },
   "outputs": [
    {
     "name": "stdout",
     "output_type": "stream",
     "text": [
      "0.17177777777777778\n",
      "0.14644444444444443\n",
      "0.10946666666666667\n",
      "0.13368888888888888\n",
      "0.16677777777777777\n",
      "0.2038\n",
      "0.2454\n",
      "0.2773555555555556\n",
      "0.29355555555555557\n",
      "0.3083111111111111\n",
      "0.32308888888888887\n",
      "0.33668888888888887\n",
      "0.3490888888888889\n",
      "0.36002222222222224\n",
      "0.3702888888888889\n",
      "0.3805777777777778\n",
      "0.38997777777777776\n",
      "0.39757777777777775\n",
      "0.40313333333333334\n",
      "0.4078\n",
      "0.4106888888888889\n",
      "0.41335555555555553\n",
      "0.4167777777777778\n",
      "0.41915555555555556\n",
      "0.42146666666666666\n",
      "0.4236666666666667\n",
      "0.4255555555555556\n",
      "0.4284\n",
      "0.43033333333333335\n",
      "0.4325333333333333\n",
      "0.43464444444444444\n",
      "0.4365777777777778\n",
      "0.4381111111111111\n",
      "0.44\n",
      "0.44137777777777776\n",
      "0.44235555555555556\n",
      "0.44384444444444443\n",
      "0.4447111111111111\n",
      "0.4457111111111111\n",
      "0.4464222222222222\n",
      "0.44726666666666665\n",
      "0.44755555555555554\n",
      "0.44793333333333335\n",
      "0.4487111111111111\n",
      "0.4491777777777778\n",
      "0.4494888888888889\n",
      "0.44993333333333335\n",
      "0.45082222222222224\n",
      "0.45126666666666665\n",
      "0.4523111111111111\n",
      "0.4530888888888889\n",
      "0.4533111111111111\n",
      "0.4537777777777778\n",
      "0.45453333333333334\n",
      "0.4551777777777778\n",
      "0.4556222222222222\n",
      "0.4560666666666667\n",
      "0.4566222222222222\n",
      "0.4572222222222222\n",
      "0.4574888888888889\n",
      "0.45786666666666664\n",
      "0.45866666666666667\n",
      "0.4592888888888889\n",
      "0.45957777777777775\n",
      "0.46\n",
      "0.4603555555555556\n",
      "0.46066666666666667\n",
      "0.46113333333333334\n",
      "0.4614666666666667\n",
      "0.46195555555555556\n",
      "0.46244444444444444\n",
      "0.46271111111111113\n",
      "0.4631111111111111\n",
      "0.4633333333333333\n",
      "0.46355555555555555\n",
      "0.4639111111111111\n",
      "0.4643555555555556\n",
      "0.4650222222222222\n",
      "0.46564444444444447\n",
      "0.4663333333333333\n",
      "0.4666888888888889\n",
      "0.4672\n",
      "0.4676444444444444\n",
      "0.4682\n",
      "0.4688222222222222\n",
      "0.46895555555555557\n",
      "0.4693555555555556\n",
      "0.46973333333333334\n",
      "0.47002222222222223\n",
      "0.47053333333333336\n",
      "0.4709111111111111\n",
      "0.4714\n",
      "0.4718888888888889\n",
      "0.4724\n",
      "0.4726222222222222\n",
      "0.473\n",
      "0.4735111111111111\n",
      "0.4739555555555556\n",
      "0.4743777777777778\n",
      "0.4748222222222222\n",
      "0.47524444444444447\n",
      "0.4756444444444444\n",
      "0.4759777777777778\n",
      "0.4764\n",
      "0.4766888888888889\n",
      "0.4771111111111111\n",
      "0.47746666666666665\n",
      "0.4780888888888889\n",
      "0.47842222222222225\n",
      "0.4789333333333333\n",
      "0.47942222222222225\n",
      "0.4797777777777778\n",
      "0.4802888888888889\n",
      "0.4805333333333333\n",
      "0.4809333333333333\n",
      "0.4815111111111111\n",
      "0.4819111111111111\n",
      "0.4824\n",
      "0.4829333333333333\n",
      "0.4835333333333333\n",
      "0.4838\n",
      "0.48413333333333336\n",
      "0.48462222222222223\n",
      "0.4850888888888889\n",
      "0.4856666666666667\n",
      "0.48602222222222224\n",
      "0.48644444444444446\n",
      "0.48662222222222223\n",
      "0.48715555555555556\n",
      "0.4875777777777778\n",
      "0.4881333333333333\n",
      "0.48875555555555555\n",
      "0.4894\n",
      "0.49004444444444445\n",
      "0.4907111111111111\n",
      "0.49133333333333334\n",
      "0.4918222222222222\n",
      "0.4920888888888889\n",
      "0.4926888888888889\n",
      "0.4930888888888889\n",
      "0.49346666666666666\n",
      "0.4938444444444444\n",
      "0.4943777777777778\n",
      "0.49477777777777776\n",
      "0.49533333333333335\n",
      "0.49577777777777776\n",
      "0.4962888888888889\n",
      "0.49662222222222224\n",
      "0.4970222222222222\n",
      "0.49724444444444443\n",
      "0.49777777777777776\n",
      "0.4980222222222222\n",
      "0.49853333333333333\n",
      "0.49891111111111114\n",
      "0.4993111111111111\n",
      "0.4998222222222222\n",
      "0.5000222222222223\n",
      "0.5006444444444444\n",
      "0.5011333333333333\n",
      "0.5014888888888889\n",
      "0.5018\n",
      "0.5023111111111112\n",
      "0.5026444444444444\n",
      "0.5030444444444444\n",
      "0.5036222222222222\n",
      "0.5040444444444444\n",
      "0.5044\n",
      "0.5047111111111111\n",
      "0.5049111111111111\n",
      "0.5054\n",
      "0.5058222222222222\n",
      "0.5060222222222223\n",
      "0.5063333333333333\n",
      "0.5068222222222222\n",
      "0.5072666666666666\n",
      "0.5075333333333333\n",
      "0.5080444444444444\n",
      "0.5084222222222222\n",
      "0.5090888888888889\n",
      "0.5096222222222222\n",
      "0.5101555555555556\n",
      "0.5106\n",
      "0.5114888888888889\n",
      "0.5121777777777777\n",
      "0.5128666666666667\n",
      "0.5136666666666667\n",
      "0.5142\n",
      "0.5149333333333334\n",
      "0.5155333333333333\n",
      "0.5159333333333334\n",
      "0.5162\n",
      "0.5166666666666667\n",
      "0.5170444444444444\n",
      "0.5173111111111112\n",
      "0.5177111111111111\n",
      "0.5178888888888888\n",
      "0.5182444444444444\n",
      "0.5184222222222222\n",
      "0.5186\n",
      "0.5188666666666667\n",
      "0.5190222222222223\n",
      "0.5192888888888889\n",
      "0.5194888888888889\n",
      "0.5195777777777778\n",
      "0.5197777777777778\n",
      "0.5200222222222223\n",
      "0.5204\n",
      "0.5205777777777778\n",
      "0.5207777777777778\n",
      "0.5210222222222223\n",
      "0.5212666666666667\n",
      "0.5214\n",
      "0.5215777777777778\n",
      "0.5218666666666667\n",
      "0.5220444444444444\n",
      "0.5221555555555556\n",
      "0.5224222222222222\n",
      "0.5226444444444445\n",
      "0.5227777777777778\n",
      "0.5229333333333334\n",
      "0.5229777777777778\n",
      "0.5232666666666667\n",
      "0.5233777777777778\n",
      "0.5236222222222222\n",
      "0.5237333333333334\n",
      "0.5240222222222222\n",
      "0.5242\n",
      "0.5243333333333333\n",
      "0.5244888888888889\n",
      "0.5248222222222222\n",
      "0.5250222222222222\n",
      "0.5252666666666667\n",
      "0.5253333333333333\n",
      "0.5254888888888889\n",
      "0.5254444444444445\n",
      "0.5256888888888889\n",
      "0.5259333333333334\n",
      "0.5260888888888889\n",
      "0.5262444444444444\n",
      "0.5263555555555556\n",
      "0.5265777777777778\n",
      "0.5266666666666666\n",
      "0.5269333333333334\n",
      "0.5271333333333333\n",
      "0.5271111111111111\n",
      "0.5272444444444444\n",
      "0.5273777777777777\n",
      "0.5274\n",
      "0.5275111111111112\n",
      "0.5275777777777778\n",
      "0.5277555555555555\n",
      "0.5279111111111111\n",
      "0.5280888888888889\n",
      "0.5283555555555556\n",
      "0.5285555555555556\n",
      "0.5286666666666666\n",
      "0.5288666666666667\n",
      "0.5292444444444444\n",
      "0.5294666666666666\n",
      "0.5296444444444445\n",
      "0.5298666666666667\n",
      "0.5298444444444445\n",
      "0.5298888888888889\n",
      "0.5300888888888889\n",
      "0.5302\n",
      "0.5302888888888889\n",
      "0.5305111111111112\n",
      "0.5306888888888889\n",
      "0.5308222222222222\n",
      "0.5309111111111111\n",
      "0.5310444444444444\n",
      "0.5311777777777777\n",
      "0.5312222222222223\n",
      "0.5312444444444444\n",
      "0.5315111111111112\n",
      "0.5316222222222222\n",
      "0.5317333333333333\n",
      "0.5317777777777778\n",
      "0.532\n",
      "0.5321333333333333\n",
      "0.5321555555555556\n",
      "0.5322222222222223\n",
      "0.5323111111111111\n",
      "0.5324888888888889\n",
      "0.5326222222222222\n",
      "0.5327111111111111\n",
      "0.5327777777777778\n",
      "0.5329777777777778\n",
      "0.5331777777777778\n",
      "0.5333111111111111\n",
      "0.5334444444444445\n",
      "0.5335111111111112\n",
      "0.5335555555555556\n",
      "0.5335555555555556\n"
     ]
    }
   ],
   "source": [
    "res = net.SGD(training_data, learning_rate=3.0)"
   ]
  },
  {
   "cell_type": "markdown",
   "metadata": {
    "slideshow": {
     "slide_type": "subslide"
    }
   },
   "source": [
    "Final accuracy: ~53%"
   ]
  },
  {
   "cell_type": "markdown",
   "metadata": {},
   "source": [
    "Note: \n",
    "- Convergence is not monotonic\n",
    "- Sensitive to initial conditions"
   ]
  },
  {
   "cell_type": "markdown",
   "metadata": {
    "slideshow": {
     "slide_type": "subslide"
    }
   },
   "source": [
    "#### Ad-hoc (Mis)classifications Check\n",
    "- Recall: We're using sigmoid, not softmax activation function"
   ]
  },
  {
   "cell_type": "code",
   "execution_count": 48,
   "metadata": {},
   "outputs": [
    {
     "data": {
      "text/plain": [
       "array([[0.  ],\n",
       "       [0.  ],\n",
       "       [0.03],\n",
       "       [0.  ],\n",
       "       [0.  ],\n",
       "       [0.63],\n",
       "       [0.06],\n",
       "       [0.07],\n",
       "       [1.  ],\n",
       "       [0.  ]])"
      ]
     },
     "execution_count": 48,
     "metadata": {},
     "output_type": "execute_result"
    }
   ],
   "source": [
    "img_number = 10\n",
    "res[img_number].round(2)"
   ]
  },
  {
   "cell_type": "code",
   "execution_count": 49,
   "metadata": {},
   "outputs": [
    {
     "data": {
      "text/plain": [
       "('Pullover', 'Pullover')"
      ]
     },
     "execution_count": 49,
     "metadata": {},
     "output_type": "execute_result"
    }
   ],
   "source": [
    "img_number = 0\n",
    "predicted = label_dict[np.argmax(res[img_number])]\n",
    "observed = label_dict[y[img_number]]\n",
    "(predicted, observed)"
   ]
  },
  {
   "cell_type": "markdown",
   "metadata": {
    "slideshow": {
     "slide_type": "subslide"
    }
   },
   "source": [
    "#### Evaluate Performance via Confusion Matrix"
   ]
  },
  {
   "cell_type": "code",
   "execution_count": 50,
   "metadata": {},
   "outputs": [],
   "source": [
    "y_pred_train_nn = [np.argmax(x) for x in res]"
   ]
  },
  {
   "cell_type": "code",
   "execution_count": 51,
   "metadata": {},
   "outputs": [
    {
     "data": {
      "text/plain": [
       "array([[   0,    0,    5,  586,   14,   15, 3720,    0,  144,   16],\n",
       "       [   0,    0,    3, 2823,   76,  624,  943,    0,    9,   22],\n",
       "       [   0,    0,  210,   36,  133,    7, 3973,    0,  140,    1],\n",
       "       [   0,    0,    2, 3800,  197,    6,  434,    1,   55,    5],\n",
       "       [   0,    0,   16,  152, 1106,    3, 3162,    0,   60,    1],\n",
       "       [   0,    0,    3,    1,    3, 3023,    8, 1040,   83,  339],\n",
       "       [   0,    0,   29,  226,  154,   12, 3897,    0,  178,    4],\n",
       "       [   0,    0,    0,    0,    0,  522,    1, 3587,   17,  373],\n",
       "       [   0,    0,    1,   33,   12,   38,  143,   26, 4232,   15],\n",
       "       [   0,    0,    0,    0,    1,   65,    0,  273,    6, 4155]])"
      ]
     },
     "execution_count": 51,
     "metadata": {},
     "output_type": "execute_result"
    }
   ],
   "source": [
    "conf_mat_nn = confusion_matrix(y_true=y,\n",
    "                               y_pred=y_pred_train_nn)\n",
    "conf_mat_nn"
   ]
  },
  {
   "cell_type": "code",
   "execution_count": 52,
   "metadata": {
    "slideshow": {
     "slide_type": "subslide"
    }
   },
   "outputs": [
    {
     "data": {
      "text/html": [
       "<div>\n",
       "<style scoped>\n",
       "    .dataframe tbody tr th:only-of-type {\n",
       "        vertical-align: middle;\n",
       "    }\n",
       "\n",
       "    .dataframe tbody tr th {\n",
       "        vertical-align: top;\n",
       "    }\n",
       "\n",
       "    .dataframe thead th {\n",
       "        text-align: right;\n",
       "    }\n",
       "</style>\n",
       "<table border=\"1\" class=\"dataframe\">\n",
       "  <thead>\n",
       "    <tr style=\"text-align: right;\">\n",
       "      <th></th>\n",
       "      <th>T-shirt/top</th>\n",
       "      <th>Trouser</th>\n",
       "      <th>Pullover</th>\n",
       "      <th>Dress</th>\n",
       "      <th>Coat</th>\n",
       "      <th>Sandal</th>\n",
       "      <th>Shirt</th>\n",
       "      <th>Sneaker</th>\n",
       "      <th>Bag</th>\n",
       "      <th>Ankle boot</th>\n",
       "    </tr>\n",
       "  </thead>\n",
       "  <tbody>\n",
       "    <tr>\n",
       "      <th>T-shirt/top</th>\n",
       "      <td>0.0</td>\n",
       "      <td>0.0</td>\n",
       "      <td>0.00</td>\n",
       "      <td>0.13</td>\n",
       "      <td>0.00</td>\n",
       "      <td>0.00</td>\n",
       "      <td>0.83</td>\n",
       "      <td>0.00</td>\n",
       "      <td>0.03</td>\n",
       "      <td>0.00</td>\n",
       "    </tr>\n",
       "    <tr>\n",
       "      <th>Trouser</th>\n",
       "      <td>0.0</td>\n",
       "      <td>0.0</td>\n",
       "      <td>0.00</td>\n",
       "      <td>0.63</td>\n",
       "      <td>0.02</td>\n",
       "      <td>0.14</td>\n",
       "      <td>0.21</td>\n",
       "      <td>0.00</td>\n",
       "      <td>0.00</td>\n",
       "      <td>0.00</td>\n",
       "    </tr>\n",
       "    <tr>\n",
       "      <th>Pullover</th>\n",
       "      <td>0.0</td>\n",
       "      <td>0.0</td>\n",
       "      <td>0.05</td>\n",
       "      <td>0.01</td>\n",
       "      <td>0.03</td>\n",
       "      <td>0.00</td>\n",
       "      <td>0.88</td>\n",
       "      <td>0.00</td>\n",
       "      <td>0.03</td>\n",
       "      <td>0.00</td>\n",
       "    </tr>\n",
       "    <tr>\n",
       "      <th>Dress</th>\n",
       "      <td>0.0</td>\n",
       "      <td>0.0</td>\n",
       "      <td>0.00</td>\n",
       "      <td>0.84</td>\n",
       "      <td>0.04</td>\n",
       "      <td>0.00</td>\n",
       "      <td>0.10</td>\n",
       "      <td>0.00</td>\n",
       "      <td>0.01</td>\n",
       "      <td>0.00</td>\n",
       "    </tr>\n",
       "    <tr>\n",
       "      <th>Coat</th>\n",
       "      <td>0.0</td>\n",
       "      <td>0.0</td>\n",
       "      <td>0.00</td>\n",
       "      <td>0.03</td>\n",
       "      <td>0.25</td>\n",
       "      <td>0.00</td>\n",
       "      <td>0.70</td>\n",
       "      <td>0.00</td>\n",
       "      <td>0.01</td>\n",
       "      <td>0.00</td>\n",
       "    </tr>\n",
       "    <tr>\n",
       "      <th>Sandal</th>\n",
       "      <td>0.0</td>\n",
       "      <td>0.0</td>\n",
       "      <td>0.00</td>\n",
       "      <td>0.00</td>\n",
       "      <td>0.00</td>\n",
       "      <td>0.67</td>\n",
       "      <td>0.00</td>\n",
       "      <td>0.23</td>\n",
       "      <td>0.02</td>\n",
       "      <td>0.08</td>\n",
       "    </tr>\n",
       "    <tr>\n",
       "      <th>Shirt</th>\n",
       "      <td>0.0</td>\n",
       "      <td>0.0</td>\n",
       "      <td>0.01</td>\n",
       "      <td>0.05</td>\n",
       "      <td>0.03</td>\n",
       "      <td>0.00</td>\n",
       "      <td>0.87</td>\n",
       "      <td>0.00</td>\n",
       "      <td>0.04</td>\n",
       "      <td>0.00</td>\n",
       "    </tr>\n",
       "    <tr>\n",
       "      <th>Sneaker</th>\n",
       "      <td>0.0</td>\n",
       "      <td>0.0</td>\n",
       "      <td>0.00</td>\n",
       "      <td>0.00</td>\n",
       "      <td>0.00</td>\n",
       "      <td>0.12</td>\n",
       "      <td>0.00</td>\n",
       "      <td>0.80</td>\n",
       "      <td>0.00</td>\n",
       "      <td>0.08</td>\n",
       "    </tr>\n",
       "    <tr>\n",
       "      <th>Bag</th>\n",
       "      <td>0.0</td>\n",
       "      <td>0.0</td>\n",
       "      <td>0.00</td>\n",
       "      <td>0.01</td>\n",
       "      <td>0.00</td>\n",
       "      <td>0.01</td>\n",
       "      <td>0.03</td>\n",
       "      <td>0.01</td>\n",
       "      <td>0.94</td>\n",
       "      <td>0.00</td>\n",
       "    </tr>\n",
       "    <tr>\n",
       "      <th>Ankle boot</th>\n",
       "      <td>0.0</td>\n",
       "      <td>0.0</td>\n",
       "      <td>0.00</td>\n",
       "      <td>0.00</td>\n",
       "      <td>0.00</td>\n",
       "      <td>0.01</td>\n",
       "      <td>0.00</td>\n",
       "      <td>0.06</td>\n",
       "      <td>0.00</td>\n",
       "      <td>0.92</td>\n",
       "    </tr>\n",
       "  </tbody>\n",
       "</table>\n",
       "</div>"
      ],
      "text/plain": [
       "             T-shirt/top  Trouser  Pullover  Dress  Coat  Sandal  Shirt  \\\n",
       "T-shirt/top          0.0      0.0      0.00   0.13  0.00    0.00   0.83   \n",
       "Trouser              0.0      0.0      0.00   0.63  0.02    0.14   0.21   \n",
       "Pullover             0.0      0.0      0.05   0.01  0.03    0.00   0.88   \n",
       "Dress                0.0      0.0      0.00   0.84  0.04    0.00   0.10   \n",
       "Coat                 0.0      0.0      0.00   0.03  0.25    0.00   0.70   \n",
       "Sandal               0.0      0.0      0.00   0.00  0.00    0.67   0.00   \n",
       "Shirt                0.0      0.0      0.01   0.05  0.03    0.00   0.87   \n",
       "Sneaker              0.0      0.0      0.00   0.00  0.00    0.12   0.00   \n",
       "Bag                  0.0      0.0      0.00   0.01  0.00    0.01   0.03   \n",
       "Ankle boot           0.0      0.0      0.00   0.00  0.00    0.01   0.00   \n",
       "\n",
       "             Sneaker   Bag  Ankle boot  \n",
       "T-shirt/top     0.00  0.03        0.00  \n",
       "Trouser         0.00  0.00        0.00  \n",
       "Pullover        0.00  0.03        0.00  \n",
       "Dress           0.00  0.01        0.00  \n",
       "Coat            0.00  0.01        0.00  \n",
       "Sandal          0.23  0.02        0.08  \n",
       "Shirt           0.00  0.04        0.00  \n",
       "Sneaker         0.80  0.00        0.08  \n",
       "Bag             0.01  0.94        0.00  \n",
       "Ankle boot      0.06  0.00        0.92  "
      ]
     },
     "execution_count": 52,
     "metadata": {},
     "output_type": "execute_result"
    }
   ],
   "source": [
    "conf_df_nn = pd.DataFrame(conf_mat_nn, class_names, class_names)\n",
    "conf_df_pct_nn = conf_df_nn/conf_df_nn.sum(axis=1)\n",
    "round(conf_df_pct_nn, 2)"
   ]
  },
  {
   "cell_type": "markdown",
   "metadata": {},
   "source": [
    "Anything jump out as reasonable misclassification?"
   ]
  },
  {
   "cell_type": "markdown",
   "metadata": {
    "slideshow": {
     "slide_type": "fragment"
    }
   },
   "source": [
    "Anything jump out as egregious misclassification?"
   ]
  },
  {
   "cell_type": "code",
   "execution_count": 53,
   "metadata": {
    "slideshow": {
     "slide_type": "subslide"
    }
   },
   "outputs": [
    {
     "data": {
      "text/html": [
       "<div>\n",
       "<style scoped>\n",
       "    .dataframe tbody tr th:only-of-type {\n",
       "        vertical-align: middle;\n",
       "    }\n",
       "\n",
       "    .dataframe tbody tr th {\n",
       "        vertical-align: top;\n",
       "    }\n",
       "\n",
       "    .dataframe thead th {\n",
       "        text-align: right;\n",
       "    }\n",
       "</style>\n",
       "<table border=\"1\" class=\"dataframe\">\n",
       "  <thead>\n",
       "    <tr style=\"text-align: right;\">\n",
       "      <th></th>\n",
       "      <th>T-shirt/top</th>\n",
       "      <th>Trouser</th>\n",
       "      <th>Pullover</th>\n",
       "      <th>Dress</th>\n",
       "      <th>Coat</th>\n",
       "      <th>Sandal</th>\n",
       "      <th>Shirt</th>\n",
       "      <th>Sneaker</th>\n",
       "      <th>Bag</th>\n",
       "      <th>Ankle boot</th>\n",
       "    </tr>\n",
       "  </thead>\n",
       "  <tbody>\n",
       "    <tr>\n",
       "      <th>T-shirt/top</th>\n",
       "      <td>0.87</td>\n",
       "      <td>0.00</td>\n",
       "      <td>0.01</td>\n",
       "      <td>0.04</td>\n",
       "      <td>0.01</td>\n",
       "      <td>0.00</td>\n",
       "      <td>0.05</td>\n",
       "      <td>0.00</td>\n",
       "      <td>0.01</td>\n",
       "      <td>0.00</td>\n",
       "    </tr>\n",
       "    <tr>\n",
       "      <th>Trouser</th>\n",
       "      <td>0.00</td>\n",
       "      <td>0.96</td>\n",
       "      <td>0.01</td>\n",
       "      <td>0.03</td>\n",
       "      <td>0.00</td>\n",
       "      <td>0.00</td>\n",
       "      <td>0.00</td>\n",
       "      <td>0.00</td>\n",
       "      <td>0.00</td>\n",
       "      <td>0.00</td>\n",
       "    </tr>\n",
       "    <tr>\n",
       "      <th>Pullover</th>\n",
       "      <td>0.00</td>\n",
       "      <td>0.00</td>\n",
       "      <td>0.83</td>\n",
       "      <td>0.01</td>\n",
       "      <td>0.11</td>\n",
       "      <td>0.00</td>\n",
       "      <td>0.04</td>\n",
       "      <td>0.00</td>\n",
       "      <td>0.01</td>\n",
       "      <td>0.00</td>\n",
       "    </tr>\n",
       "    <tr>\n",
       "      <th>Dress</th>\n",
       "      <td>0.02</td>\n",
       "      <td>0.00</td>\n",
       "      <td>0.01</td>\n",
       "      <td>0.92</td>\n",
       "      <td>0.03</td>\n",
       "      <td>0.00</td>\n",
       "      <td>0.02</td>\n",
       "      <td>0.00</td>\n",
       "      <td>0.00</td>\n",
       "      <td>0.00</td>\n",
       "    </tr>\n",
       "    <tr>\n",
       "      <th>Coat</th>\n",
       "      <td>0.00</td>\n",
       "      <td>0.00</td>\n",
       "      <td>0.06</td>\n",
       "      <td>0.04</td>\n",
       "      <td>0.87</td>\n",
       "      <td>0.00</td>\n",
       "      <td>0.03</td>\n",
       "      <td>0.00</td>\n",
       "      <td>0.00</td>\n",
       "      <td>0.00</td>\n",
       "    </tr>\n",
       "    <tr>\n",
       "      <th>Sandal</th>\n",
       "      <td>0.00</td>\n",
       "      <td>0.00</td>\n",
       "      <td>0.00</td>\n",
       "      <td>0.00</td>\n",
       "      <td>0.00</td>\n",
       "      <td>0.94</td>\n",
       "      <td>0.00</td>\n",
       "      <td>0.04</td>\n",
       "      <td>0.01</td>\n",
       "      <td>0.01</td>\n",
       "    </tr>\n",
       "    <tr>\n",
       "      <th>Shirt</th>\n",
       "      <td>0.15</td>\n",
       "      <td>0.00</td>\n",
       "      <td>0.11</td>\n",
       "      <td>0.03</td>\n",
       "      <td>0.08</td>\n",
       "      <td>0.00</td>\n",
       "      <td>0.61</td>\n",
       "      <td>0.00</td>\n",
       "      <td>0.02</td>\n",
       "      <td>0.00</td>\n",
       "    </tr>\n",
       "    <tr>\n",
       "      <th>Sneaker</th>\n",
       "      <td>0.00</td>\n",
       "      <td>0.00</td>\n",
       "      <td>0.00</td>\n",
       "      <td>0.00</td>\n",
       "      <td>0.00</td>\n",
       "      <td>0.01</td>\n",
       "      <td>0.00</td>\n",
       "      <td>0.94</td>\n",
       "      <td>0.00</td>\n",
       "      <td>0.05</td>\n",
       "    </tr>\n",
       "    <tr>\n",
       "      <th>Bag</th>\n",
       "      <td>0.00</td>\n",
       "      <td>0.00</td>\n",
       "      <td>0.00</td>\n",
       "      <td>0.00</td>\n",
       "      <td>0.00</td>\n",
       "      <td>0.00</td>\n",
       "      <td>0.01</td>\n",
       "      <td>0.00</td>\n",
       "      <td>0.97</td>\n",
       "      <td>0.00</td>\n",
       "    </tr>\n",
       "    <tr>\n",
       "      <th>Ankle boot</th>\n",
       "      <td>0.00</td>\n",
       "      <td>0.00</td>\n",
       "      <td>0.00</td>\n",
       "      <td>0.00</td>\n",
       "      <td>0.00</td>\n",
       "      <td>0.01</td>\n",
       "      <td>0.00</td>\n",
       "      <td>0.03</td>\n",
       "      <td>0.00</td>\n",
       "      <td>0.96</td>\n",
       "    </tr>\n",
       "  </tbody>\n",
       "</table>\n",
       "</div>"
      ],
      "text/plain": [
       "             T-shirt/top  Trouser  Pullover  Dress  Coat  Sandal  Shirt  \\\n",
       "T-shirt/top         0.87     0.00      0.01   0.04  0.01    0.00   0.05   \n",
       "Trouser             0.00     0.96      0.01   0.03  0.00    0.00   0.00   \n",
       "Pullover            0.00     0.00      0.83   0.01  0.11    0.00   0.04   \n",
       "Dress               0.02     0.00      0.01   0.92  0.03    0.00   0.02   \n",
       "Coat                0.00     0.00      0.06   0.04  0.87    0.00   0.03   \n",
       "Sandal              0.00     0.00      0.00   0.00  0.00    0.94   0.00   \n",
       "Shirt               0.15     0.00      0.11   0.03  0.08    0.00   0.61   \n",
       "Sneaker             0.00     0.00      0.00   0.00  0.00    0.01   0.00   \n",
       "Bag                 0.00     0.00      0.00   0.00  0.00    0.00   0.01   \n",
       "Ankle boot          0.00     0.00      0.00   0.00  0.00    0.01   0.00   \n",
       "\n",
       "             Sneaker   Bag  Ankle boot  \n",
       "T-shirt/top     0.00  0.01        0.00  \n",
       "Trouser         0.00  0.00        0.00  \n",
       "Pullover        0.00  0.01        0.00  \n",
       "Dress           0.00  0.00        0.00  \n",
       "Coat            0.00  0.00        0.00  \n",
       "Sandal          0.04  0.01        0.01  \n",
       "Shirt           0.00  0.02        0.00  \n",
       "Sneaker         0.94  0.00        0.05  \n",
       "Bag             0.00  0.97        0.00  \n",
       "Ankle boot      0.03  0.00        0.96  "
      ]
     },
     "execution_count": 53,
     "metadata": {},
     "output_type": "execute_result"
    }
   ],
   "source": [
    "# Compare with confusion matrix from RF:\n",
    "round(conf_df_pct, 2)\n"
   ]
  },
  {
   "cell_type": "markdown",
   "metadata": {
    "slideshow": {
     "slide_type": "subslide"
    }
   },
   "source": [
    "Should we refactor this code:\n",
    "```\n",
    "conf_df_nn = pd.DataFrame(conf_mat_nn, class_names, class_names)\n",
    "conf_df_pct_nn = conf_df_nn/conf_df_nn.sum(axis=1)\n",
    "round(conf_df_pct_nn, 2)\n",
    "```\n",
    "into a function?"
   ]
  },
  {
   "cell_type": "markdown",
   "metadata": {
    "slideshow": {
     "slide_type": "subslide"
    }
   },
   "source": [
    "#### Evaluate Performance via F1-score"
   ]
  },
  {
   "cell_type": "code",
   "execution_count": 54,
   "metadata": {},
   "outputs": [
    {
     "data": {
      "text/plain": [
       "0.46714327387303467"
      ]
     },
     "execution_count": 54,
     "metadata": {},
     "output_type": "execute_result"
    }
   ],
   "source": [
    "# Class-level performance:\n",
    "f1_score(y_true=y,\n",
    "         y_pred=y_pred_train_nn,\n",
    "         average='macro')"
   ]
  },
  {
   "cell_type": "code",
   "execution_count": 55,
   "metadata": {},
   "outputs": [
    {
     "data": {
      "text/plain": [
       "0.5335555555555556"
      ]
     },
     "execution_count": 55,
     "metadata": {},
     "output_type": "execute_result"
    }
   ],
   "source": [
    "# Class-level performance:\n",
    "f1_score(y_true=y,\n",
    "         y_pred=y_pred_train_nn,\n",
    "         average='micro')"
   ]
  },
  {
   "cell_type": "markdown",
   "metadata": {
    "slideshow": {
     "slide_type": "fragment"
    }
   },
   "source": [
    "Are we suprised by these results?"
   ]
  },
  {
   "cell_type": "markdown",
   "metadata": {
    "slideshow": {
     "slide_type": "subslide"
    }
   },
   "source": [
    "What do we think about the model?"
   ]
  },
  {
   "cell_type": "markdown",
   "metadata": {
    "slideshow": {
     "slide_type": "fragment"
    }
   },
   "source": [
    "![Warning](./images/warning.png) Just because we iterated on the model, model improvement is not guaranteed (!)."
   ]
  },
  {
   "cell_type": "markdown",
   "metadata": {
    "slideshow": {
     "slide_type": "fragment"
    }
   },
   "source": [
    "Should we ensemble current NN with RF model? Why?"
   ]
  },
  {
   "cell_type": "markdown",
   "metadata": {
    "slideshow": {
     "slide_type": "fragment"
    }
   },
   "source": [
    "What are some approaches to improve NN model performance?"
   ]
  },
  {
   "cell_type": "markdown",
   "metadata": {
    "slideshow": {
     "slide_type": "fragment"
    }
   },
   "source": [
    "What are alternative approaches for next model iteration?"
   ]
  },
  {
   "cell_type": "markdown",
   "metadata": {
    "slideshow": {
     "slide_type": "slide"
    }
   },
   "source": [
    "# Back to the Business Question"
   ]
  },
  {
   "cell_type": "markdown",
   "metadata": {},
   "source": [
    "**Use case**: Help tag item category to improve search results."
   ]
  },
  {
   "cell_type": "markdown",
   "metadata": {},
   "source": [
    "Models are not perfect and model may make a mistake. Let's think about misclassification rate... Which is more costly to seller?"
   ]
  },
  {
   "cell_type": "markdown",
   "metadata": {
    "slideshow": {
     "slide_type": "fragment"
    }
   },
   "source": [
    "Which is more costly to buyer?"
   ]
  },
  {
   "cell_type": "markdown",
   "metadata": {
    "slideshow": {
     "slide_type": "subslide"
    }
   },
   "source": [
    "Ideas to improve recommendations using current model framework (RF or NN)?"
   ]
  },
  {
   "cell_type": "markdown",
   "metadata": {
    "slideshow": {
     "slide_type": "fragment"
    }
   },
   "source": [
    "Hint: can we leverage probabilities?"
   ]
  },
  {
   "cell_type": "markdown",
   "metadata": {
    "slideshow": {
     "slide_type": "fragment"
    }
   },
   "source": [
    "Hint: can we leverage category hierarchy?"
   ]
  }
 ],
 "metadata": {
  "kernelspec": {
   "display_name": "env-stats404-w20",
   "language": "python",
   "name": "env-stats404-w20"
  },
  "language_info": {
   "codemirror_mode": {
    "name": "ipython",
    "version": 3
   },
   "file_extension": ".py",
   "mimetype": "text/x-python",
   "name": "python",
   "nbconvert_exporter": "python",
   "pygments_lexer": "ipython3",
   "version": "3.7.5"
  }
 },
 "nbformat": 4,
 "nbformat_minor": 4
}
